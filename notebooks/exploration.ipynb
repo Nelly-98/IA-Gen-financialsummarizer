{
 "cells": [
  {
   "cell_type": "code",
   "execution_count": 8,
   "metadata": {},
   "outputs": [
    {
     "name": "stdout",
     "output_type": "stream",
     "text": [
      "2.5.1\n"
     ]
    }
   ],
   "source": [
    "import torch\n",
    "print(torch.__version__)"
   ]
  },
  {
   "cell_type": "code",
   "execution_count": 2,
   "metadata": {},
   "outputs": [
    {
     "name": "stderr",
     "output_type": "stream",
     "text": [
      "/Users/nellyguepnang/Desktop/projets/IA-Gen-ResumeDocFinanciers/venv/lib/python3.12/site-packages/tqdm/auto.py:21: TqdmWarning: IProgress not found. Please update jupyter and ipywidgets. See https://ipywidgets.readthedocs.io/en/stable/user_install.html\n",
      "  from .autonotebook import tqdm as notebook_tqdm\n"
     ]
    }
   ],
   "source": [
    "# Imports\n",
    "import fitz  # PyMuPDF\n",
    "import docx\n",
    "import re\n",
    "from transformers import pipeline"
   ]
  },
  {
   "cell_type": "code",
   "execution_count": 4,
   "metadata": {},
   "outputs": [
    {
     "name": "stderr",
     "output_type": "stream",
     "text": [
      "Hardware accelerator e.g. GPU is available in the environment, but no `device` argument is passed to the `Pipeline` object. Model will be on CPU.\n"
     ]
    }
   ],
   "source": [
    "# Initialisation du modèle de résumé\n",
    "summarizer = pipeline(\"summarization\", model=\"sshleifer/distilbart-cnn-12-6\")"
   ]
  },
  {
   "cell_type": "code",
   "execution_count": 5,
   "metadata": {},
   "outputs": [],
   "source": [
    "# Fonction d'extraction de texte\n",
    "def extract_text_from_pdf(filepath):\n",
    "    text = \"\"\n",
    "    pdf = fitz.open(filepath)\n",
    "    for page in pdf:\n",
    "        text += page.get_text()\n",
    "    pdf.close()\n",
    "    return text\n",
    "\n",
    "def extract_text_from_docx(filepath):\n",
    "    doc = docx.Document(filepath)\n",
    "    return \"\\n\".join([para.text for para in doc.paragraphs])\n"
   ]
  },
  {
   "cell_type": "code",
   "execution_count": 8,
   "metadata": {},
   "outputs": [
    {
     "name": "stdout",
     "output_type": "stream",
     "text": [
      "Texte extrait (extrait) :\n",
      " Exemple de Rapport Financier\n",
      "Résumé exécutif\n",
      "Le chiffre d'affaires de l'année 2023 a atteint 12,5 millions d'euros, représentant une croissance de 8 % par rapport à\n",
      "l'année précédente. La marge brute a été maintenue à 42 %, tandis que les coûts d'exploitation ont légèrement\n",
      "augmenté en raison des investissements dans la transformation numérique. Le résultat net s'élève à 3,1 millions\n",
      "d'euros, marquant une amélioration de 12 % par rapport à 2022.\n",
      "Analyse du chiffre d'affaires\n",
      "Le chiffre d'affaires a augmenté principalement grâce à l'expansion sur les marchés européens. La France et\n",
      "l'Allemagne restent les deux marchés principaux, contribuant à 65 % du chiffre d'affaires total. Les nouveaux produits\n",
      "lancés au cours du troisième trimestre ont également eu un impact positif sur les revenus.\n",
      "Coûts et dépenses\n",
      "Les coûts de production ont augmenté de 4 %, atteignant 5,4 millions d'euros, en partie en raison de la hausse des prix\n",
      "des matières premières. Les dépenses marketing ont été de 1,2 mi\n"
     ]
    }
   ],
   "source": [
    "# Chargement d'un document d'exemple\n",
    "file_path = \"../data/sample_reports/exemple_rapport_financier.pdf\"  # Exemple d'un fichier PDF\n",
    "text = extract_text_from_pdf(file_path)\n",
    "print(\"Texte extrait (extrait) :\\n\", text[:1000])\n"
   ]
  },
  {
   "cell_type": "code",
   "execution_count": 9,
   "metadata": {},
   "outputs": [],
   "source": [
    "# Nettoyage du texte\n",
    "cleaned_text = re.sub(r\"\\s+\", \" \", text)\n"
   ]
  },
  {
   "cell_type": "code",
   "execution_count": 13,
   "metadata": {},
   "outputs": [
    {
     "name": "stdout",
     "output_type": "stream",
     "text": [
      "Résumé :\n",
      "  Le chiffre d'affaires de l'année 2023 a atteint 12,5 millions d'euros, représentant une croissance de 8% par rapport . La France and l'Allemagne restent les deux marchés principaux, contribuant à 65% du total . Le flux de trésorerie opérationnel s'est amélioré, atteignant 2,5 million d'Euros, contre 2,1 millions d’euros en 2022 . Le résultat net s'élève à 3,1 million euros, marquant une améliaration de 12 % par rapport à 2022 .\n"
     ]
    }
   ],
   "source": [
    "# Résumé avec le modèle NLP\n",
    "summary = summarizer(cleaned_text, max_length=270, min_length=150, do_sample=False)\n",
    "print(\"Résumé :\\n\", summary[0]['summary_text'])"
   ]
  }
 ],
 "metadata": {
  "kernelspec": {
   "display_name": "venv",
   "language": "python",
   "name": "python3"
  },
  "language_info": {
   "codemirror_mode": {
    "name": "ipython",
    "version": 3
   },
   "file_extension": ".py",
   "mimetype": "text/x-python",
   "name": "python",
   "nbconvert_exporter": "python",
   "pygments_lexer": "ipython3",
   "version": "3.12.1"
  }
 },
 "nbformat": 4,
 "nbformat_minor": 2
}
